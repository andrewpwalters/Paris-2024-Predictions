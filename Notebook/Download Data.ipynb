{
 "cells": [
  {
   "cell_type": "code",
   "execution_count": 1,
   "id": "8e5079cb-c184-46a7-8a8f-5fc9240b8618",
   "metadata": {},
   "outputs": [],
   "source": [
    "import pandas as pd\n",
    "import numpy as np\n",
    "import os\n",
    "from os.path import exists\n",
    "import opendatasets as od\n",
    "import shutil\n",
    "import wbgapi as wb\n",
    "\n",
    "import pymc as pm\n",
    "import pytensor\n",
    "import pytensor.tensor as pt\n",
    "import matplotlib.pyplot as plt\n",
    "import arviz as az\n",
    "\n",
    "import requests\n",
    "from io import BytesIO\n",
    "\n",
    "config = {\n",
    "    'figure.figsize':(14,4),\n",
    "    'figure.constrained_layout.use':True,\n",
    "    'figure.facecolor':'w',\n",
    "    'axes.grid':True,\n",
    "    'grid.linewidth':0.5,\n",
    "    'grid.linestyle':'--',\n",
    "    'axes.spines.top':False,\n",
    "    'axes.spines.bottom':False,\n",
    "    'axes.spines.left':False,\n",
    "    'axes.spines.right':False\n",
    "}\n",
    "\n",
    "plt.rcParams.update(config)\n",
    "\n",
    "SEED = sum(list(map(ord, 'olympics_bayes')))\n",
    "rng = np.random.default_rng(SEED)"
   ]
  },
  {
   "cell_type": "markdown",
   "id": "b60971b5-4d43-43a3-8403-8be346c0bb0f",
   "metadata": {},
   "source": [
    "Data needed:\n",
    "\n",
    "MVP:\n",
    "- Olympics results\n",
    "- Host country dummy\n",
    "- Has won a medal before\n",
    "- GDP per capita\n",
    "- Population\n",
    "- Freedom index\n",
    "\n",
    "Extension:\n",
    "- Latitude of largest city\n",
    "- Export volume\n",
    "- Import volume\n",
    "- Area\n",
    "- Migration rate\n",
    "- Doctors per capita\n",
    "- Gender equality <-- very promising"
   ]
  },
  {
   "cell_type": "markdown",
   "id": "288d4332-f68d-4e6a-ba78-2c3b89eddfbe",
   "metadata": {},
   "source": [
    "# Download Data"
   ]
  },
  {
   "cell_type": "code",
   "execution_count": 2,
   "id": "62dab772-926f-440c-b3c5-62c4c304ca88",
   "metadata": {},
   "outputs": [
    {
     "name": "stdout",
     "output_type": "stream",
     "text": [
      "Ensured the destination folder '../Data/raw' exists.\n",
      "Ensured the destination folder '../Data/clean' exists.\n"
     ]
    }
   ],
   "source": [
    "try:\n",
    "    os.makedirs(\"../Data/raw\", exist_ok=True)\n",
    "    print(f\"Ensured the destination folder '{\"../Data/raw\"}' exists.\")\n",
    "except Exception as e:\n",
    "    print(f\"Error creating destination folder: {e}\")\n",
    "\n",
    "try:\n",
    "    os.makedirs(\"../Data/clean\", exist_ok=True)\n",
    "    print(f\"Ensured the destination folder '{\"../Data/clean\"}' exists.\")\n",
    "except Exception as e:\n",
    "    print(f\"Error creating destination folder: {e}\")"
   ]
  },
  {
   "cell_type": "markdown",
   "id": "65741c84-3e40-4503-9bfe-6f8e2e80c60a",
   "metadata": {},
   "source": [
    "## Olympic Data"
   ]
  },
  {
   "cell_type": "markdown",
   "id": "4a65d56b-a2fc-4603-91c8-695d39ea5a19",
   "metadata": {},
   "source": [
    "### Olympic Results and Host Countries"
   ]
  },
  {
   "cell_type": "code",
   "execution_count": 9,
   "id": "ce1a61b8-e545-4283-877f-6bd7e3bfa727",
   "metadata": {},
   "outputs": [
    {
     "name": "stdout",
     "output_type": "stream",
     "text": [
      "Dataset URL: https://www.kaggle.com/datasets/piterfm/olympic-games-medals-19862018\n",
      "Downloading olympic-games-medals-19862018.zip to ./olympic-games-medals-19862018\n"
     ]
    },
    {
     "name": "stderr",
     "output_type": "stream",
     "text": [
      "100%|██████████████████████████████████████| 13.9M/13.9M [00:00<00:00, 21.3MB/s]\n"
     ]
    },
    {
     "name": "stdout",
     "output_type": "stream",
     "text": [
      "\n"
     ]
    }
   ],
   "source": [
    "od.download( \n",
    "    \"https://www.kaggle.com/datasets/piterfm/olympic-games-medals-19862018\") \n",
    "#shutil.move(\"../Notebook/olympic-games-medals-19862018\", \"../Data/olympic-games-medals-19862018\")"
   ]
  },
  {
   "cell_type": "code",
   "execution_count": 10,
   "id": "c90d4567-086f-4116-b1ad-7099f7b50bc4",
   "metadata": {},
   "outputs": [
    {
     "name": "stdout",
     "output_type": "stream",
     "text": [
      "Ensured the destination folder '../Data/raw' exists.\n",
      "Moved olympic_medals.csv to ../Data/raw\n",
      "Moved olympic_results.pkl to ../Data/raw\n",
      "Moved olympic_hosts.csv to ../Data/raw\n",
      "Moved olympic_athletes.csv to ../Data/raw\n",
      "Moved olympic_results.csv to ../Data/raw\n",
      "Deleted the folder ../Notebook/olympic-games-medals-19862018\n"
     ]
    }
   ],
   "source": [
    "try:\n",
    "    os.makedirs(\"../Data/raw\", exist_ok=True)\n",
    "    print(f\"Ensured the destination folder '{\"../Data/raw\"}' exists.\")\n",
    "except Exception as e:\n",
    "    print(f\"Error creating destination folder: {e}\")\n",
    "\n",
    "try:\n",
    "    for filename in os.listdir(\"../Notebook/olympic-games-medals-19862018\"):\n",
    "        source_file = os.path.join(\"../Notebook/olympic-games-medals-19862018\", filename)\n",
    "        destination_file = os.path.join(\"../Data/raw\", filename)\n",
    "        \n",
    "        if os.path.isfile(source_file):  # Only move files, not directories\n",
    "            shutil.move(source_file, destination_file)\n",
    "            print(f\"Moved {filename} to {\"../Data/raw\"}\")\n",
    "        else:\n",
    "            print(f\"Skipping directory {filename}\")\n",
    "\n",
    "    # After moving all files, delete the empty source folder\n",
    "    os.rmdir(\"../Notebook/olympic-games-medals-19862018\")\n",
    "    print(f\"Deleted the folder {\"../Notebook/olympic-games-medals-19862018\"}\")\n",
    "except Exception as e:\n",
    "    print(f\"Error: {e}\")"
   ]
  },
  {
   "cell_type": "code",
   "execution_count": null,
   "id": "67de5e74-eb6e-494b-8616-5033fb2c7f48",
   "metadata": {},
   "outputs": [],
   "source": []
  },
  {
   "cell_type": "markdown",
   "id": "4fea7815-1722-4cfb-9ed9-03d29688bf23",
   "metadata": {},
   "source": [
    "## Independent Vars"
   ]
  },
  {
   "cell_type": "markdown",
   "id": "7280c588-4383-48bd-972c-b50895da9d09",
   "metadata": {},
   "source": [
    "### GDP"
   ]
  },
  {
   "cell_type": "code",
   "execution_count": 8,
   "id": "044883ba-1b0d-4d21-be0b-c91eded3d8f2",
   "metadata": {},
   "outputs": [],
   "source": [
    "wb.data.DataFrame(['NY.GDP.MKTP.CD']).to_csv('../Data/raw/NY.GDP.MKTP.CD.csv')"
   ]
  },
  {
   "cell_type": "markdown",
   "id": "f646ef99-8744-4600-82fc-4673a2ced4c3",
   "metadata": {},
   "source": [
    "### Population"
   ]
  },
  {
   "cell_type": "code",
   "execution_count": 6,
   "id": "8825fe0c-1314-4017-b01c-afc3b48b8d30",
   "metadata": {},
   "outputs": [],
   "source": [
    "wb.data.DataFrame(['SP.POP.TOTL']).to_csv('../Data/raw/SP_POP_TOTL.csv')"
   ]
  },
  {
   "cell_type": "markdown",
   "id": "f8c899d7-2ef3-4449-a2a3-7aa3f17b0c6c",
   "metadata": {},
   "source": [
    "### Freedom Index"
   ]
  },
  {
   "cell_type": "code",
   "execution_count": 7,
   "id": "270f93cc-8bb7-4ee1-9f34-e01c4903857e",
   "metadata": {},
   "outputs": [
    {
     "name": "stdout",
     "output_type": "stream",
     "text": [
      "Moved FIW_1973-2024.xls to ../Data/raw\n"
     ]
    }
   ],
   "source": [
    "resp = requests.get(\"https://freedomhouse.org/sites/default/files/2024-02/Country_and_Territory_Ratings_and_Statuses_FIW_1973-2024.xlsx\")\n",
    "\n",
    "output = open('FIW_1973-2024.xls', 'wb')\n",
    "output.write(resp.content)\n",
    "output.close()\n",
    "\n",
    "source_file = os.path.join(\"../Notebook/FIW_1973-2024.xls\")\n",
    "destination_file = os.path.join(\"../Data/raw/FIW_1973-2024.xls\")\n",
    "\n",
    "if os.path.isfile(source_file):  # Only move files, not directories\n",
    "    shutil.move(source_file, destination_file)\n",
    "    print(f\"Moved {\"FIW_1973-2024.xls\"} to {\"../Data/raw\"}\")\n",
    "else:\n",
    "    print(f\"Skipping directory {filename}\")"
   ]
  }
 ],
 "metadata": {
  "kernelspec": {
   "display_name": "Python 3 (ipykernel)",
   "language": "python",
   "name": "python3"
  },
  "language_info": {
   "codemirror_mode": {
    "name": "ipython",
    "version": 3
   },
   "file_extension": ".py",
   "mimetype": "text/x-python",
   "name": "python",
   "nbconvert_exporter": "python",
   "pygments_lexer": "ipython3",
   "version": "3.12.2"
  }
 },
 "nbformat": 4,
 "nbformat_minor": 5
}
